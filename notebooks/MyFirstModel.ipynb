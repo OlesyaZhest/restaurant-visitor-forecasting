{
 "cells": [
  {
   "cell_type": "code",
   "execution_count": 1,
   "id": "9af8f1b3-5c3e-472a-9751-753af8ecbe1b",
   "metadata": {},
   "outputs": [],
   "source": [
    "import pandas as pd\n",
    "import numpy as np\n",
    "import matplotlib.pyplot as plt\n",
    "import sktime"
   ]
  },
  {
   "cell_type": "markdown",
   "id": "c7a52052-6003-47b0-ad86-11970434b6f9",
   "metadata": {},
   "source": [
    "Импортируем данные"
   ]
  },
  {
   "cell_type": "code",
   "execution_count": 3,
   "id": "696e16b4-060b-4339-ba20-201f303ad631",
   "metadata": {},
   "outputs": [],
   "source": [
    "raw_data_folder = \"../data/raw/\""
   ]
  },
  {
   "cell_type": "code",
   "execution_count": 9,
   "id": "09b8455d-2245-4de3-b065-da899351e0a2",
   "metadata": {},
   "outputs": [],
   "source": [
    "air_reserve = pd.read_csv(\n",
    "    raw_data_folder + \"air_reserve.csv\", index_col=\"visit_datetime\", parse_dates=True\n",
    ")\n",
    "\n",
    "# hpg_reserve = pd.read_csv('C:/Users/Jessy/Desktop/study/ml/jupyter/homework/data/hpg_reserve.csv', index_col = 'visit_datetime', parse_dates = True)\n",
    "# air_store_info = pd.read_csv('C:/Users/Jessy/Desktop/study/ml/jupyter/homework/data/air_store_info.csv')\n",
    "# hpg_store_info = pd.read_csv('C:/Users/Jessy/Desktop/study/ml/jupyter/homework/data/hpg_store_info.csv')\n",
    "# store_id_relation = pd.read_csv('C:/Users/Jessy/Desktop/study/ml/jupyter/homework/data/store_id_relation.csv')\n",
    "# air_visit_data = pd.read_csv('C:/Users/Jessy/Desktop/study/ml/jupyter/homework/data/air_visit_data.csv', index_col = 'visit_date', parse_dates = True)\n",
    "# date_info = pd.read_csv('C:/Users/Jessy/Desktop/study/ml/jupyter/homework/data/date_info.csv', index_col = 'calendar_date', parse_dates = True)"
   ]
  },
  {
   "cell_type": "code",
   "execution_count": 17,
   "id": "0c24799c-53fd-4a3b-8476-ea19e1cad399",
   "metadata": {},
   "outputs": [
    {
     "data": {
      "text/plain": [
       "Index(['air_store_id', 'reserve_datetime', 'reserve_visitors'], dtype='object')"
      ]
     },
     "execution_count": 17,
     "metadata": {},
     "output_type": "execute_result"
    }
   ],
   "source": [
    "air_reserve.columns"
   ]
  },
  {
   "cell_type": "code",
   "execution_count": 22,
   "id": "e395b2de-7b28-4406-975d-a04f4a0a5855",
   "metadata": {},
   "outputs": [
    {
     "data": {
      "text/html": [
       "<div>\n",
       "<style scoped>\n",
       "    .dataframe tbody tr th:only-of-type {\n",
       "        vertical-align: middle;\n",
       "    }\n",
       "\n",
       "    .dataframe tbody tr th {\n",
       "        vertical-align: top;\n",
       "    }\n",
       "\n",
       "    .dataframe thead th {\n",
       "        text-align: right;\n",
       "    }\n",
       "</style>\n",
       "<table border=\"1\" class=\"dataframe\">\n",
       "  <thead>\n",
       "    <tr style=\"text-align: right;\">\n",
       "      <th></th>\n",
       "      <th>reserve_datetime</th>\n",
       "      <th>reserve_visitors</th>\n",
       "    </tr>\n",
       "    <tr>\n",
       "      <th>air_store_id</th>\n",
       "      <th></th>\n",
       "      <th></th>\n",
       "    </tr>\n",
       "  </thead>\n",
       "  <tbody>\n",
       "    <tr>\n",
       "      <th>air_00a91d42b08b08d9</th>\n",
       "      <td>2016-10-31 16:00:002016-12-01 15:00:002016-12-...</td>\n",
       "      <td>70</td>\n",
       "    </tr>\n",
       "    <tr>\n",
       "      <th>air_0164b9927d20bcc3</th>\n",
       "      <td>2016-10-21 17:00:002016-10-25 20:00:002016-10-...</td>\n",
       "      <td>517</td>\n",
       "    </tr>\n",
       "    <tr>\n",
       "      <th>air_034a3d5b40d5b1b1</th>\n",
       "      <td>2016-10-26 22:00:002016-10-28 19:00:002016-11-...</td>\n",
       "      <td>93</td>\n",
       "    </tr>\n",
       "    <tr>\n",
       "      <th>air_03963426c9312048</th>\n",
       "      <td>2016-01-06 14:00:002016-01-06 14:00:002016-01-...</td>\n",
       "      <td>8200</td>\n",
       "    </tr>\n",
       "    <tr>\n",
       "      <th>air_04341b588bde96cd</th>\n",
       "      <td>2016-10-29 23:00:002016-10-29 23:00:002016-10-...</td>\n",
       "      <td>208</td>\n",
       "    </tr>\n",
       "    <tr>\n",
       "      <th>...</th>\n",
       "      <td>...</td>\n",
       "      <td>...</td>\n",
       "    </tr>\n",
       "    <tr>\n",
       "      <th>air_fcfbdcf7b1f82c6e</th>\n",
       "      <td>2016-11-18 20:00:002016-10-06 17:00:002016-12-...</td>\n",
       "      <td>333</td>\n",
       "    </tr>\n",
       "    <tr>\n",
       "      <th>air_fdc02ec4a3d21ea4</th>\n",
       "      <td>2016-10-17 23:00:002016-11-25 19:00:002016-11-...</td>\n",
       "      <td>166</td>\n",
       "    </tr>\n",
       "    <tr>\n",
       "      <th>air_fe22ef5a9cbef123</th>\n",
       "      <td>2016-01-02 19:00:002016-01-05 23:00:002016-01-...</td>\n",
       "      <td>1393</td>\n",
       "    </tr>\n",
       "    <tr>\n",
       "      <th>air_fea5dc9594450608</th>\n",
       "      <td>2016-10-27 19:00:002016-10-27 19:00:002016-10-...</td>\n",
       "      <td>471</td>\n",
       "    </tr>\n",
       "    <tr>\n",
       "      <th>air_fee8dcf4d619598e</th>\n",
       "      <td>2016-12-27 14:00:002017-01-06 16:00:00</td>\n",
       "      <td>5</td>\n",
       "    </tr>\n",
       "  </tbody>\n",
       "</table>\n",
       "<p>314 rows × 2 columns</p>\n",
       "</div>"
      ],
      "text/plain": [
       "                                                       reserve_datetime  \\\n",
       "air_store_id                                                              \n",
       "air_00a91d42b08b08d9  2016-10-31 16:00:002016-12-01 15:00:002016-12-...   \n",
       "air_0164b9927d20bcc3  2016-10-21 17:00:002016-10-25 20:00:002016-10-...   \n",
       "air_034a3d5b40d5b1b1  2016-10-26 22:00:002016-10-28 19:00:002016-11-...   \n",
       "air_03963426c9312048  2016-01-06 14:00:002016-01-06 14:00:002016-01-...   \n",
       "air_04341b588bde96cd  2016-10-29 23:00:002016-10-29 23:00:002016-10-...   \n",
       "...                                                                 ...   \n",
       "air_fcfbdcf7b1f82c6e  2016-11-18 20:00:002016-10-06 17:00:002016-12-...   \n",
       "air_fdc02ec4a3d21ea4  2016-10-17 23:00:002016-11-25 19:00:002016-11-...   \n",
       "air_fe22ef5a9cbef123  2016-01-02 19:00:002016-01-05 23:00:002016-01-...   \n",
       "air_fea5dc9594450608  2016-10-27 19:00:002016-10-27 19:00:002016-10-...   \n",
       "air_fee8dcf4d619598e             2016-12-27 14:00:002017-01-06 16:00:00   \n",
       "\n",
       "                      reserve_visitors  \n",
       "air_store_id                            \n",
       "air_00a91d42b08b08d9                70  \n",
       "air_0164b9927d20bcc3               517  \n",
       "air_034a3d5b40d5b1b1                93  \n",
       "air_03963426c9312048              8200  \n",
       "air_04341b588bde96cd               208  \n",
       "...                                ...  \n",
       "air_fcfbdcf7b1f82c6e               333  \n",
       "air_fdc02ec4a3d21ea4               166  \n",
       "air_fe22ef5a9cbef123              1393  \n",
       "air_fea5dc9594450608               471  \n",
       "air_fee8dcf4d619598e                 5  \n",
       "\n",
       "[314 rows x 2 columns]"
      ]
     },
     "execution_count": 22,
     "metadata": {},
     "output_type": "execute_result"
    }
   ],
   "source": [
    "air_reserve.groupby('air_store_id').sum()"
   ]
  },
  {
   "cell_type": "code",
   "execution_count": 18,
   "id": "d1441e2b-a094-4d92-8afd-dc68eae659e7",
   "metadata": {},
   "outputs": [
    {
     "data": {
      "text/plain": [
       "(<Figure size 1600x400 with 1 Axes>, <Axes: ylabel='reserve_visitors'>)"
      ]
     },
     "execution_count": 18,
     "metadata": {},
     "output_type": "execute_result"
    },
    {
     "data": {
      "image/png": "[encoded data removed]",
      "text/plain": [
       "<Figure size 1600x400 with 1 Axes>"
      ]
     },
     "metadata": {},
     "output_type": "display_data"
    }
   ],
   "source": [
    "sktime.utils.plot_series(air_reserve['reserve_visitors'])"
   ]
  },
  {
   "cell_type": "code",
   "execution_count": null,
   "id": "5b24c13e-7d9f-4bc4-992b-6eb48f048d88",
   "metadata": {},
   "outputs": [],
   "source": [
    "air_reserve.head()"
   ]
  },
  {
   "cell_type": "markdown",
   "id": "ef920975-6763-40b0-9373-6665576dc468",
   "metadata": {},
   "source": [
    "Проверка на пропущенные значения\n"
   ]
  },
  {
   "cell_type": "code",
   "execution_count": null,
   "id": "812dbb00-be0e-4bd1-82ed-5bc6cff938ca",
   "metadata": {},
   "outputs": [],
   "source": [
    "print(air_reserve.isnull().sum())\n",
    "print(hpg_reserve.isnull().sum())\n",
    "print(air_store_info.isnull().sum())\n",
    "print(hpg_store_info.isnull().sum())\n",
    "print(store_id_relation.isnull().sum())\n",
    "print(air_visit_data.isnull().sum())\n",
    "print(date_info.isnull().sum())"
   ]
  },
  {
   "cell_type": "code",
   "execution_count": null,
   "id": "7f88e829-2bc2-4811-b016-2ad86b96f2d1",
   "metadata": {},
   "outputs": [],
   "source": [
    "air_reserve.isnull().sum()"
   ]
  },
  {
   "cell_type": "code",
   "execution_count": null,
   "id": "3cc1839b-8df6-4c56-b42f-158a611e397d",
   "metadata": {},
   "outputs": [],
   "source": [
    "df = air_reserve.merge(\n",
    "    air_store_info, on=\"air_store_id\", how=\"inner\", validate=\"many_to_one\"\n",
    ")"
   ]
  },
  {
   "cell_type": "code",
   "execution_count": null,
   "id": "475c019e-94da-4157-9c37-a5d114f4eaa0",
   "metadata": {},
   "outputs": [],
   "source": [
    "df.index = df[\"reserve_datetime\"]"
   ]
  },
  {
   "cell_type": "code",
   "execution_count": null,
   "id": "31894ad5-ccfe-46b1-9e50-bb1d86cde98f",
   "metadata": {},
   "outputs": [],
   "source": [
    "df.index = pd.to_datetime(df.index)"
   ]
  },
  {
   "cell_type": "code",
   "execution_count": null,
   "id": "97d0d52c-bf64-41e9-a91b-345e75117374",
   "metadata": {},
   "outputs": [],
   "source": [
    "df"
   ]
  },
  {
   "cell_type": "code",
   "execution_count": null,
   "id": "ec0fa995-c22e-4c59-80ca-ddda3bea547f",
   "metadata": {},
   "outputs": [],
   "source": [
    "air_store_info"
   ]
  },
  {
   "cell_type": "code",
   "execution_count": null,
   "id": "3b63333b-6576-4130-870b-c81c357e0eda",
   "metadata": {},
   "outputs": [],
   "source": [
    "air_reserve"
   ]
  },
  {
   "cell_type": "code",
   "execution_count": 23,
   "id": "dff814c4-8ffa-44a2-96b7-0dc041ce8b87",
   "metadata": {},
   "outputs": [
    {
     "ename": "KeyError",
     "evalue": "'visit_datetime'",
     "output_type": "error",
     "traceback": [
      "\u001b[1;31m---------------------------------------------------------------------------\u001b[0m",
      "\u001b[1;31mKeyError\u001b[0m                                  Traceback (most recent call last)",
      "File \u001b[1;32m~\\Desktop\\study\\ml\\jupyter\\homework\\venv\\Lib\\site-packages\\pandas\\core\\indexes\\base.py:3805\u001b[0m, in \u001b[0;36mIndex.get_loc\u001b[1;34m(self, key)\u001b[0m\n\u001b[0;32m   3804\u001b[0m \u001b[38;5;28;01mtry\u001b[39;00m:\n\u001b[1;32m-> 3805\u001b[0m     \u001b[38;5;28;01mreturn\u001b[39;00m \u001b[38;5;28;43mself\u001b[39;49m\u001b[38;5;241;43m.\u001b[39;49m\u001b[43m_engine\u001b[49m\u001b[38;5;241;43m.\u001b[39;49m\u001b[43mget_loc\u001b[49m\u001b[43m(\u001b[49m\u001b[43mcasted_key\u001b[49m\u001b[43m)\u001b[49m\n\u001b[0;32m   3806\u001b[0m \u001b[38;5;28;01mexcept\u001b[39;00m \u001b[38;5;167;01mKeyError\u001b[39;00m \u001b[38;5;28;01mas\u001b[39;00m err:\n",
      "File \u001b[1;32mindex.pyx:167\u001b[0m, in \u001b[0;36mpandas._libs.index.IndexEngine.get_loc\u001b[1;34m()\u001b[0m\n",
      "File \u001b[1;32mindex.pyx:196\u001b[0m, in \u001b[0;36mpandas._libs.index.IndexEngine.get_loc\u001b[1;34m()\u001b[0m\n",
      "File \u001b[1;32mpandas\\\\_libs\\\\hashtable_class_helper.pxi:7081\u001b[0m, in \u001b[0;36mpandas._libs.hashtable.PyObjectHashTable.get_item\u001b[1;34m()\u001b[0m\n",
      "File \u001b[1;32mpandas\\\\_libs\\\\hashtable_class_helper.pxi:7089\u001b[0m, in \u001b[0;36mpandas._libs.hashtable.PyObjectHashTable.get_item\u001b[1;34m()\u001b[0m\n",
      "\u001b[1;31mKeyError\u001b[0m: 'visit_datetime'",
      "\nThe above exception was the direct cause of the following exception:\n",
      "\u001b[1;31mKeyError\u001b[0m                                  Traceback (most recent call last)",
      "Cell \u001b[1;32mIn[23], line 2\u001b[0m\n\u001b[0;32m      1\u001b[0m daily_visit \u001b[38;5;241m=\u001b[39m (\n\u001b[1;32m----> 2\u001b[0m     air_reserve\u001b[38;5;241m.\u001b[39mgroupby(\u001b[43mair_reserve\u001b[49m\u001b[43m[\u001b[49m\u001b[38;5;124;43m\"\u001b[39;49m\u001b[38;5;124;43mvisit_datetime\u001b[39;49m\u001b[38;5;124;43m\"\u001b[39;49m\u001b[43m]\u001b[49m\u001b[38;5;241m.\u001b[39mdt\u001b[38;5;241m.\u001b[39mdate)[\u001b[38;5;124m\"\u001b[39m\u001b[38;5;124mreserve_visitors\u001b[39m\u001b[38;5;124m\"\u001b[39m]\n\u001b[0;32m      3\u001b[0m     \u001b[38;5;241m.\u001b[39msum()\n\u001b[0;32m      4\u001b[0m     \u001b[38;5;241m.\u001b[39mreset_index()\n\u001b[0;32m      5\u001b[0m )\n\u001b[0;32m      6\u001b[0m daily_visit\u001b[38;5;241m.\u001b[39mcolumns \u001b[38;5;241m=\u001b[39m [\u001b[38;5;124m\"\u001b[39m\u001b[38;5;124mvisit_datetime_day\u001b[39m\u001b[38;5;124m\"\u001b[39m, \u001b[38;5;124m\"\u001b[39m\u001b[38;5;124msum_visitors\u001b[39m\u001b[38;5;124m\"\u001b[39m]\n",
      "File \u001b[1;32m~\\Desktop\\study\\ml\\jupyter\\homework\\venv\\Lib\\site-packages\\pandas\\core\\frame.py:4102\u001b[0m, in \u001b[0;36mDataFrame.__getitem__\u001b[1;34m(self, key)\u001b[0m\n\u001b[0;32m   4100\u001b[0m \u001b[38;5;28;01mif\u001b[39;00m \u001b[38;5;28mself\u001b[39m\u001b[38;5;241m.\u001b[39mcolumns\u001b[38;5;241m.\u001b[39mnlevels \u001b[38;5;241m>\u001b[39m \u001b[38;5;241m1\u001b[39m:\n\u001b[0;32m   4101\u001b[0m     \u001b[38;5;28;01mreturn\u001b[39;00m \u001b[38;5;28mself\u001b[39m\u001b[38;5;241m.\u001b[39m_getitem_multilevel(key)\n\u001b[1;32m-> 4102\u001b[0m indexer \u001b[38;5;241m=\u001b[39m \u001b[38;5;28;43mself\u001b[39;49m\u001b[38;5;241;43m.\u001b[39;49m\u001b[43mcolumns\u001b[49m\u001b[38;5;241;43m.\u001b[39;49m\u001b[43mget_loc\u001b[49m\u001b[43m(\u001b[49m\u001b[43mkey\u001b[49m\u001b[43m)\u001b[49m\n\u001b[0;32m   4103\u001b[0m \u001b[38;5;28;01mif\u001b[39;00m is_integer(indexer):\n\u001b[0;32m   4104\u001b[0m     indexer \u001b[38;5;241m=\u001b[39m [indexer]\n",
      "File \u001b[1;32m~\\Desktop\\study\\ml\\jupyter\\homework\\venv\\Lib\\site-packages\\pandas\\core\\indexes\\base.py:3812\u001b[0m, in \u001b[0;36mIndex.get_loc\u001b[1;34m(self, key)\u001b[0m\n\u001b[0;32m   3807\u001b[0m     \u001b[38;5;28;01mif\u001b[39;00m \u001b[38;5;28misinstance\u001b[39m(casted_key, \u001b[38;5;28mslice\u001b[39m) \u001b[38;5;129;01mor\u001b[39;00m (\n\u001b[0;32m   3808\u001b[0m         \u001b[38;5;28misinstance\u001b[39m(casted_key, abc\u001b[38;5;241m.\u001b[39mIterable)\n\u001b[0;32m   3809\u001b[0m         \u001b[38;5;129;01mand\u001b[39;00m \u001b[38;5;28many\u001b[39m(\u001b[38;5;28misinstance\u001b[39m(x, \u001b[38;5;28mslice\u001b[39m) \u001b[38;5;28;01mfor\u001b[39;00m x \u001b[38;5;129;01min\u001b[39;00m casted_key)\n\u001b[0;32m   3810\u001b[0m     ):\n\u001b[0;32m   3811\u001b[0m         \u001b[38;5;28;01mraise\u001b[39;00m InvalidIndexError(key)\n\u001b[1;32m-> 3812\u001b[0m     \u001b[38;5;28;01mraise\u001b[39;00m \u001b[38;5;167;01mKeyError\u001b[39;00m(key) \u001b[38;5;28;01mfrom\u001b[39;00m\u001b[38;5;250m \u001b[39m\u001b[38;5;21;01merr\u001b[39;00m\n\u001b[0;32m   3813\u001b[0m \u001b[38;5;28;01mexcept\u001b[39;00m \u001b[38;5;167;01mTypeError\u001b[39;00m:\n\u001b[0;32m   3814\u001b[0m     \u001b[38;5;66;03m# If we have a listlike key, _check_indexing_error will raise\u001b[39;00m\n\u001b[0;32m   3815\u001b[0m     \u001b[38;5;66;03m#  InvalidIndexError. Otherwise we fall through and re-raise\u001b[39;00m\n\u001b[0;32m   3816\u001b[0m     \u001b[38;5;66;03m#  the TypeError.\u001b[39;00m\n\u001b[0;32m   3817\u001b[0m     \u001b[38;5;28mself\u001b[39m\u001b[38;5;241m.\u001b[39m_check_indexing_error(key)\n",
      "\u001b[1;31mKeyError\u001b[0m: 'visit_datetime'"
     ]
    }
   ],
   "source": [
    "daily_visit = (\n",
    "    air_reserve.groupby(air_reserve[\"visit_datetime\"].dt.date)[\"reserve_visitors\"]\n",
    "    .sum()\n",
    "    .reset_index()\n",
    ")\n",
    "daily_visit.columns = [\"visit_datetime_day\", \"sum_visitors\"]"
   ]
  },
  {
   "cell_type": "code",
   "execution_count": null,
   "id": "66005446-b128-4214-9de9-f80f3df96849",
   "metadata": {},
   "outputs": [],
   "source": [
    "ax = air_reserve.plot(\n",
    "    xlabel=\"visit_datetime\", ylabel=\"reserve_visitors\", figsize=(12, 6)\n",
    ")\n",
    "ax.set(xlabel=\"visit_day\", ylabel=\"visitors\")"
   ]
  },
  {
   "cell_type": "code",
   "execution_count": null,
   "id": "40404438-6e5d-4f15-b593-7f5f6fd8a6ce",
   "metadata": {},
   "outputs": [],
   "source": [
    "air_reserve.head()"
   ]
  },
  {
   "cell_type": "code",
   "execution_count": null,
   "id": "eba3ea77-b411-4488-b2f3-6737f68bba91",
   "metadata": {},
   "outputs": [],
   "source": [
    "date_info.index = pd.to_datetime(date_info.index)"
   ]
  },
  {
   "cell_type": "code",
   "execution_count": null,
   "id": "341f848e-3352-43db-af57-3d9c261b8727",
   "metadata": {},
   "outputs": [],
   "source": [
    "date_info.plot()"
   ]
  },
  {
   "cell_type": "code",
   "execution_count": null,
   "id": "5ad531d7-a755-4ced-a95c-df0da00d40c7",
   "metadata": {},
   "outputs": [],
   "source": []
  },
  {
   "cell_type": "code",
   "execution_count": null,
   "id": "e8e17e36-cecb-4c0a-9f36-3817a5a77deb",
   "metadata": {},
   "outputs": [],
   "source": []
  },
  {
   "cell_type": "code",
   "execution_count": null,
   "id": "9a76bd52-226e-4730-8c0c-2f07600c047a",
   "metadata": {},
   "outputs": [],
   "source": [
    "from skforecast.ForecasterAutoreg import ForecasterAutoreg\n",
    "from skforecast.model_selection import backtesting_forecaster\n",
    "from skforecast.model_selection import grid_search_forecaster"
   ]
  },
  {
   "cell_type": "code",
   "execution_count": null,
   "id": "43745a8d-ccd9-4b40-9b82-d687a4120d81",
   "metadata": {},
   "outputs": [],
   "source": [
    "from sklearn.linear_model import LinearRegression\n",
    "from sklearn.metrics import (\n",
    "    mean_absolute_error,\n",
    "    mean_squared_error,\n",
    ")  # Загрузка и обработка данных\n",
    "from sklearn.pipeline import Pipeline\n",
    "from sklearn.preprocessing import StandardScaler"
   ]
  },
  {
   "cell_type": "code",
   "execution_count": null,
   "id": "f6965bb3-8bae-4beb-b579-54555a192c73",
   "metadata": {},
   "outputs": [],
   "source": []
  },
  {
   "cell_type": "code",
   "execution_count": null,
   "id": "a5d841be-88aa-4f7a-8509-3f2e938c4539",
   "metadata": {},
   "outputs": [],
   "source": []
  }
 ],
 "metadata": {
  "kernelspec": {
   "display_name": "Python 3 (ipykernel)",
   "language": "python",
   "name": "python3"
  },
  "language_info": {
   "codemirror_mode": {
    "name": "ipython",
    "version": 3
   },
   "file_extension": ".py",
   "mimetype": "text/x-python",
   "name": "python",
   "nbconvert_exporter": "python",
   "pygments_lexer": "ipython3",
   "version": "3.12.0"
  }
 },
 "nbformat": 4,
 "nbformat_minor": 5
}
