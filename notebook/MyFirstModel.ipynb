{
 "cells": [
  {
   "cell_type": "code",
   "execution_count": 3,
   "id": "9af8f1b3-5c3e-472a-9751-753af8ecbe1b",
   "metadata": {},
   "outputs": [
    {
     "ename": "ModuleNotFoundError",
     "evalue": "No module named 'sktime'",
     "output_type": "error",
     "traceback": [
      "\u001b[1;31m---------------------------------------------------------------------------\u001b[0m",
      "\u001b[1;31mModuleNotFoundError\u001b[0m                       Traceback (most recent call last)",
      "Cell \u001b[1;32mIn[3], line 4\u001b[0m\n\u001b[0;32m      2\u001b[0m \u001b[38;5;28;01mimport\u001b[39;00m \u001b[38;5;21;01mnumpy\u001b[39;00m \u001b[38;5;28;01mas\u001b[39;00m \u001b[38;5;21;01mnp\u001b[39;00m\n\u001b[0;32m      3\u001b[0m \u001b[38;5;28;01mimport\u001b[39;00m \u001b[38;5;21;01mmatplotlib\u001b[39;00m\u001b[38;5;21;01m.\u001b[39;00m\u001b[38;5;21;01mpyplot\u001b[39;00m \u001b[38;5;28;01mas\u001b[39;00m \u001b[38;5;21;01mplt\u001b[39;00m\n\u001b[1;32m----> 4\u001b[0m \u001b[38;5;28;01mimport\u001b[39;00m \u001b[38;5;21;01msktime\u001b[39;00m\n",
      "\u001b[1;31mModuleNotFoundError\u001b[0m: No module named 'sktime'"
     ]
    }
   ],
   "source": [
    "import pandas as pd\n",
    "import numpy as np\n",
    "import matplotlib.pyplot as plt\n",
    "import sktime"
   ]
  },
  {
   "cell_type": "code",
   "execution_count": null,
   "id": "716d919f-0b38-42b6-8829-d41cb7f47eb4",
   "metadata": {},
   "outputs": [],
   "source": [
    "!pip install sktime"
   ]
  },
  {
   "cell_type": "markdown",
   "id": "c7a52052-6003-47b0-ad86-11970434b6f9",
   "metadata": {},
   "source": [
    "Импортируем данные"
   ]
  },
  {
   "cell_type": "code",
   "execution_count": null,
   "id": "09b8455d-2245-4de3-b065-da899351e0a2",
   "metadata": {},
   "outputs": [],
   "source": [
    "air_reserve = pd.read_csv('C:/Users/Jessy/Desktop/study/ml/jupyter/homework/data/air_reserve.csv', index_col = 'visit_datetime', parse_dates = True)\n",
    "hpg_reserve = pd.read_csv('C:/Users/Jessy/Desktop/study/ml/jupyter/homework/data/hpg_reserve.csv', index_col = 'visit_datetime', parse_dates = True)\n",
    "air_store_info = pd.read_csv('C:/Users/Jessy/Desktop/study/ml/jupyter/homework/data/air_store_info.csv')\n",
    "hpg_store_info = pd.read_csv('C:/Users/Jessy/Desktop/study/ml/jupyter/homework/data/hpg_store_info.csv')\n",
    "store_id_relation = pd.read_csv('C:/Users/Jessy/Desktop/study/ml/jupyter/homework/data/store_id_relation.csv')\n",
    "air_visit_data = pd.read_csv('C:/Users/Jessy/Desktop/study/ml/jupyter/homework/data/air_visit_data.csv', index_col = 'visit_date', parse_dates = True)\n",
    "date_info = pd.read_csv('C:/Users/Jessy/Desktop/study/ml/jupyter/homework/data/date_info.csv', index_col = 'calendar_date', parse_dates = True)"
   ]
  },
  {
   "cell_type": "code",
   "execution_count": null,
   "id": "5b24c13e-7d9f-4bc4-992b-6eb48f048d88",
   "metadata": {},
   "outputs": [],
   "source": [
    "air_reserve.head()"
   ]
  },
  {
   "cell_type": "markdown",
   "id": "ef920975-6763-40b0-9373-6665576dc468",
   "metadata": {},
   "source": [
    "Проверка на пропущенные значения\n"
   ]
  },
  {
   "cell_type": "code",
   "execution_count": null,
   "id": "812dbb00-be0e-4bd1-82ed-5bc6cff938ca",
   "metadata": {},
   "outputs": [],
   "source": [
    "print(air_reserve.isnull().sum())\n",
    "print(hpg_reserve.isnull().sum())\n",
    "print(air_store_info.isnull().sum())\n",
    "print(hpg_store_info.isnull().sum())\n",
    "print(store_id_relation.isnull().sum())\n",
    "print(air_visit_data.isnull().sum())\n",
    "print(date_info.isnull().sum())"
   ]
  },
  {
   "cell_type": "code",
   "execution_count": null,
   "id": "7f88e829-2bc2-4811-b016-2ad86b96f2d1",
   "metadata": {},
   "outputs": [],
   "source": [
    "air_reserve.isnull().sum()"
   ]
  },
  {
   "cell_type": "code",
   "execution_count": null,
   "id": "3cc1839b-8df6-4c56-b42f-158a611e397d",
   "metadata": {},
   "outputs": [],
   "source": [
    "df = air_reserve.merge(\n",
    "    air_store_info,\n",
    "    on='air_store_id',\n",
    "    how='inner',\n",
    "    validate='many_to_one'\n",
    ")"
   ]
  },
  {
   "cell_type": "code",
   "execution_count": null,
   "id": "475c019e-94da-4157-9c37-a5d114f4eaa0",
   "metadata": {},
   "outputs": [],
   "source": [
    "df.index = df['reserve_datetime']"
   ]
  },
  {
   "cell_type": "code",
   "execution_count": null,
   "id": "31894ad5-ccfe-46b1-9e50-bb1d86cde98f",
   "metadata": {},
   "outputs": [],
   "source": [
    "df.index = pd.to_datetime(df.index)"
   ]
  },
  {
   "cell_type": "code",
   "execution_count": null,
   "id": "97d0d52c-bf64-41e9-a91b-345e75117374",
   "metadata": {},
   "outputs": [],
   "source": [
    "df"
   ]
  },
  {
   "cell_type": "code",
   "execution_count": null,
   "id": "ec0fa995-c22e-4c59-80ca-ddda3bea547f",
   "metadata": {},
   "outputs": [],
   "source": [
    "air_store_info"
   ]
  },
  {
   "cell_type": "code",
   "execution_count": null,
   "id": "3b63333b-6576-4130-870b-c81c357e0eda",
   "metadata": {},
   "outputs": [],
   "source": [
    "air_reserve"
   ]
  },
  {
   "cell_type": "code",
   "execution_count": null,
   "id": "dff814c4-8ffa-44a2-96b7-0dc041ce8b87",
   "metadata": {},
   "outputs": [],
   "source": [
    "daily_visit = air_reserve.groupby(air_reserve['visit_datetime'].dt.date)['reserve_visitors'].sum().reset_index()\n",
    "daily_visit.columns = ['visit_datetime_day', 'sum_visitors']"
   ]
  },
  {
   "cell_type": "code",
   "execution_count": null,
   "id": "66005446-b128-4214-9de9-f80f3df96849",
   "metadata": {},
   "outputs": [],
   "source": [
    "ax = air_reserve.plot(xlabel='visit_datetime', ylabel='reserve_visitors', figsize = (12,6))\n",
    "ax.set(xlabel = 'visit_day', ylabel = 'visitors')"
   ]
  },
  {
   "cell_type": "code",
   "execution_count": null,
   "id": "40404438-6e5d-4f15-b593-7f5f6fd8a6ce",
   "metadata": {},
   "outputs": [],
   "source": [
    "air_reserve.head()"
   ]
  },
  {
   "cell_type": "code",
   "execution_count": null,
   "id": "eba3ea77-b411-4488-b2f3-6737f68bba91",
   "metadata": {},
   "outputs": [],
   "source": [
    "date_info.index = pd.to_datetime(date_info.index)"
   ]
  },
  {
   "cell_type": "code",
   "execution_count": null,
   "id": "341f848e-3352-43db-af57-3d9c261b8727",
   "metadata": {},
   "outputs": [],
   "source": [
    "date_info.plot()"
   ]
  },
  {
   "cell_type": "code",
   "execution_count": null,
   "id": "5ad531d7-a755-4ced-a95c-df0da00d40c7",
   "metadata": {},
   "outputs": [],
   "source": []
  },
  {
   "cell_type": "code",
   "execution_count": null,
   "id": "e8e17e36-cecb-4c0a-9f36-3817a5a77deb",
   "metadata": {},
   "outputs": [],
   "source": []
  },
  {
   "cell_type": "code",
   "execution_count": null,
   "id": "9a76bd52-226e-4730-8c0c-2f07600c047a",
   "metadata": {},
   "outputs": [],
   "source": [
    "from skforecast.ForecasterAutoreg import ForecasterAutoreg\n",
    "from skforecast.model_selection import backtesting_forecaster\n",
    "from skforecast.model_selection import grid_search_forecaster"
   ]
  },
  {
   "cell_type": "code",
   "execution_count": null,
   "id": "53a0a616-3c12-4c1c-8c2d-63a547d77b28",
   "metadata": {},
   "outputs": [],
   "source": [
    "!pip install skforecast"
   ]
  },
  {
   "cell_type": "code",
   "execution_count": null,
   "id": "43745a8d-ccd9-4b40-9b82-d687a4120d81",
   "metadata": {},
   "outputs": [],
   "source": [
    "from sklearn.linear_model import LinearRegression\n",
    "from sklearn.metrics import mean_absolute_error, mean_squared_error   # Загрузка и обработка данных   \n",
    "from sklearn.pipeline import Pipeline\n",
    "from sklearn.preprocessing import StandardScaler"
   ]
  },
  {
   "cell_type": "code",
   "execution_count": null,
   "id": "f6965bb3-8bae-4beb-b579-54555a192c73",
   "metadata": {},
   "outputs": [],
   "source": []
  },
  {
   "cell_type": "code",
   "execution_count": null,
   "id": "a5d841be-88aa-4f7a-8509-3f2e938c4539",
   "metadata": {},
   "outputs": [],
   "source": []
  }
 ],
 "metadata": {
  "kernelspec": {
   "display_name": "Python 3 (ipykernel)",
   "language": "python",
   "name": "python3"
  },
  "language_info": {
   "codemirror_mode": {
    "name": "ipython",
    "version": 3
   },
   "file_extension": ".py",
   "mimetype": "text/x-python",
   "name": "python",
   "nbconvert_exporter": "python",
   "pygments_lexer": "ipython3",
   "version": "3.12.0"
  }
 },
 "nbformat": 4,
 "nbformat_minor": 5
}
